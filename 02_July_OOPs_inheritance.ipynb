{
 "cells": [
  {
   "cell_type": "raw",
   "id": "b0c6f83e",
   "metadata": {},
   "source": [
    "1. Inheritance is a fundamental concept that allows a new class to inherit the characteristics of an parent class. The parent class is often referred as \"base class,\" or \"superclass,\" and the new class is known as the \"derived class\" \"child class\" or \"subclass\".\n",
    "\n",
    "Inheritance is used for Code Reusability, flexible and organization by allowing classes to inherit attributes and methods from other classes\n",
    "\n",
    "Code Reusability: Inheritance promotes code reuse by allowing a class to inherit the features of an existing class. This reduces redundancy and makes the code more modular.\n",
    "\n",
    "Polymorphism: Inheritance facilitates polymorphism, where objects of the derived class can be treated as objects of the base class. This allows for more flexibility in designing and using classes.\n",
    "\n",
    "Hierarchy and Organization: Inheritance allows for the creation of class hierarchies, where more specialized classes can be organized under more general classes. This helps in structuring and organizing code.\n",
    "\n",
    "Ease of Maintenance: Changes made to the base class automatically reflect in the derived classes. This makes it easier to maintain and update code, as modifications in one place can affect multiple classes."
   ]
  },
  {
   "cell_type": "code",
   "execution_count": 1,
   "id": "116f94d8",
   "metadata": {},
   "outputs": [],
   "source": [
    "#Example for inheritance\n",
    "\n",
    "class Animal():\n",
    "    def __init__(self,animal):\n",
    "        self.animal=animal\n",
    "    def sound(self):\n",
    "        pass\n",
    "    \n",
    "class Cat(Animal):\n",
    "    def __init__(self,animal):\n",
    "        super().__init__(animal)\n",
    "    def sound(self):\n",
    "        super().sound()\n",
    "        print(f\"{self.animal} make sound like meow meow\")"
   ]
  },
  {
   "cell_type": "code",
   "execution_count": 3,
   "id": "c49249fa",
   "metadata": {},
   "outputs": [
    {
     "name": "stdout",
     "output_type": "stream",
     "text": [
      "Persian Cat make sound like meow meow\n"
     ]
    }
   ],
   "source": [
    "cat=Cat(\"Persian Cat\")\n",
    "cat.sound()"
   ]
  },
  {
   "cell_type": "raw",
   "id": "fa87c611",
   "metadata": {},
   "source": [
    "2. Single inheritance: A class can inherit attributes and behaviors from only one superclass or base class. \n",
    "\n",
    "Advantages of Single Inheritance:\n",
    "\n",
    "Simplicity: Single inheritance is conceptually simpler and easier to understand. The hierarchy is straightforward, making the code more readable.\n",
    "\n",
    "Reduced Complexity: With a single parent class, there is less ambiguity and fewer potential conflicts in method and attribute resolution.\n",
    "\n",
    "Less Coupling: Single inheritance typically results in less coupling between classes, making the codebase more modular and easier to maintain.\n",
    "\n",
    "Multipe inheritance: A class can inherit attributes and behaviors from more than one superclass or base class. This means that the derived class can incorporate features from multiple parent classes.\n",
    "\n",
    "Advantages of Multiple Inheritance:\n",
    "\n",
    "Code Reusability: Multiple inheritance allows a class to reuse code from multiple sources, leading to better code organization and reuse.\n",
    "\n",
    "Flexibility: It provides flexibility in designing classes, as a new class can combine features from different classes, promoting a modular and extensible design.\n",
    "\n",
    "Enhanced Functionality: A class can inherit a diverse set of functionalities from different classes, enriching its capabilities.\n",
    "\n",
    "Differences between Single Inheritance and Multiple Inheritance:\n",
    "\n",
    "Number of Superclasses:\n",
    "Single Inheritance: Inherits from one superclass.\n",
    "Multiple Inheritance: Inherits from more than one superclass.\n",
    "\n",
    "Complexity:\n",
    "Single Inheritance: Generally simpler and less prone to ambiguity.\n",
    "Multiple Inheritance: Can be more complex, and careful design is needed to avoid conflicts and ambiguity.\n"
   ]
  },
  {
   "cell_type": "raw",
   "id": "1ed3f055",
   "metadata": {},
   "source": [
    "3. Differences between base class and derived class\n",
    "\n",
    "Base CLass:\n",
    "The base class also known as the superclass or parent class whose properties and behaviors are inherited by another class.\n",
    "base class serves as blueprint, providing a set of common attributes and methods that can be reused by other classes.\n",
    "\n",
    "Derived Class:\n",
    "The derived class also known as the subclass or child class, is the class that inherits properties and behaviors from another class.\n",
    "Purpose: It extends or specializes the functionality of the base class by adding additional attributes or methods, or by overriding existing ones.\n",
    "\n",
    "The derived class inherits all the attributes and methods of the base class.\n",
    "Instances of the derived class can use both the attributes and methods of the base class without having to redefine them."
   ]
  },
  {
   "cell_type": "raw",
   "id": "6b7222d3",
   "metadata": {},
   "source": [
    "4.Significance of \"Protected\" in Inheritance:\n",
    "\n",
    "Inheritance allows a subclass to inherit attributes and methods from a superclass.\n",
    "When a member is marked as protected, it is accessible to the derived class, promoting a level of visibility that allows for reuse and extension of the base class functionality.\n",
    "Protected members are a compromise between public and private, providing a balance between accessibility and encapsulation.\n",
    "\n",
    "Differences:\n",
    "\n",
    "Public vs. Protected: We can access Public from anywhere, while protected members are intended for use within the class and its subclasses.\n",
    "Protected vs. Private: We can access protected by subclasses, but private members are not."
   ]
  },
  {
   "cell_type": "code",
   "execution_count": 4,
   "id": "8f03e0d6",
   "metadata": {},
   "outputs": [
    {
     "name": "stdout",
     "output_type": "stream",
     "text": [
      "Persian Cat sounds like meow meow\n"
     ]
    }
   ],
   "source": [
    "5.\n",
    "\"\"\"'super' keyword in Python is used to refer to the parent class. The primary purpose of super is to invoke the superclass's implementation of a method, allowing the subclass to extend or modify the behavior while still utilizing the functionality of the superclass.\n",
    "\n",
    "The super keyword is often used in the context of method overriding, where a method in the subclass has the same name as a method in the superclass.\"\"\"\n",
    "\n",
    "class Animal:\n",
    "    def __init__(self,name):\n",
    "        self.name=name\n",
    "    def sound():\n",
    "        pass\n",
    "    \n",
    "class Cat(Animal):\n",
    "    def __init__(self,name):\n",
    "        super().__init__(name)\n",
    "    def sound(self):\n",
    "        print(f\"{self.name} sounds like meow meow\")\n",
    "        \n",
    "cat=Cat(\"Persian Cat\")\n",
    "cat.sound()"
   ]
  },
  {
   "cell_type": "code",
   "execution_count": 8,
   "id": "a42be105",
   "metadata": {},
   "outputs": [
    {
     "name": "stdout",
     "output_type": "stream",
     "text": [
      "2022 Tata Innova\n",
      "2023 EV Tesla\n",
      "Fuel type CNG\n"
     ]
    }
   ],
   "source": [
    "#6.\n",
    "\n",
    "class Vehicle:\n",
    "    def __init__(self,make,model,year):\n",
    "        self.make=make\n",
    "        self.model=model\n",
    "        self.year=year\n",
    "    def display_info(self):\n",
    "        print(f\"{self.year} {self.make} {self.model}\")\n",
    "        \n",
    "class Car(Vehicle):\n",
    "    def __init__(self,make,model,year,fuel_type):\n",
    "        super().__init__(make,model,year)\n",
    "        self.fuel_type=fuel_type\n",
    "    def display_info(self):\n",
    "        super().display_info()\n",
    "        print(f\"Fuel type {self.fuel_type}\")\n",
    "    \n",
    "    \n",
    "vehicle=Vehicle(\"Tata\",\"Innova\",2022)\n",
    "vehicle.display_info()\n",
    "\n",
    "car=Car(\"EV\",\"Tesla\",2023,\"CNG\")\n",
    "car.display_info()\n",
    "        "
   ]
  },
  {
   "cell_type": "code",
   "execution_count": 9,
   "id": "6c5f7599",
   "metadata": {},
   "outputs": [],
   "source": [
    "#7.\n",
    "\n",
    "class Employee:\n",
    "    def __init__(self,name,salary):\n",
    "        self.name=name\n",
    "        self.salary=salary\n",
    "    def display_info(self):\n",
    "        print(f\"Name is {self.name} and Salary is {self.salary}\")\n",
    "        \n",
    "class Manager(Employee):\n",
    "    def __init__(self,name,salary,department):\n",
    "        super().__init__(name,salary)\n",
    "        self.department=department\n",
    "    def display_info(self):\n",
    "        super().display_info()\n",
    "        print(f\"Department: {self.department}\")\n",
    "\n",
    "class Developer(Employee):\n",
    "    def __init__(self,name,salary,programming_language):\n",
    "        super().__init__(name,salary)\n",
    "        self.programming_language=programming_language\n",
    "    def display_info(self):\n",
    "        super().display_info()\n",
    "        print(f\"Programming language: {self.programming_language}\")\n",
    "        \n",
    "    "
   ]
  },
  {
   "cell_type": "code",
   "execution_count": 10,
   "id": "0cf41ce5",
   "metadata": {},
   "outputs": [
    {
     "name": "stdout",
     "output_type": "stream",
     "text": [
      "Name is Tay and Salary is 15000\n",
      "Department: Arts\n",
      "Name is New and Salary is 17000\n",
      "Programming language: Python\n"
     ]
    }
   ],
   "source": [
    "manager=Manager(\"Tay\",15000,\"Arts\")\n",
    "manager.display_info()\n",
    "\n",
    "developer=Developer(\"New\",17000,\"Python\")\n",
    "developer.display_info()"
   ]
  },
  {
   "cell_type": "code",
   "execution_count": 20,
   "id": "d5dee607",
   "metadata": {},
   "outputs": [],
   "source": [
    "class Shape:\n",
    "    def __init__(self,colour,border_width):\n",
    "        self.colour=colour\n",
    "        self.border_width=border_width\n",
    "    def display_info(self):\n",
    "        print(f\"Colour is {self.colour} and border_width is {self.border_width}\")\n",
    "        \n",
    "class Rectangle(Shape):\n",
    "    def __init__(self,colour,border_width,length,width):\n",
    "        super().__init__(colour,border_width)\n",
    "        self.length=length\n",
    "        self.width=width\n",
    "    def display_info(self):\n",
    "        print(f\"Length is {self.length}\")\n",
    "        print(f\"Width is {self.width}\")\n",
    "        print(f\"Area of the rectangle: {self.calculate_area}\")\n",
    "    def calculate_area(self):\n",
    "        return self.length*self.width\n",
    "    \n",
    "class Circle(Shape):\n",
    "    def __init__(self, colour, border_width, radius):\n",
    "        super().__init__(colour, border_width)\n",
    "        self.radius = radius\n",
    "    def display_info(self):\n",
    "        super().display_info()\n",
    "        print(f\"Radius: {self.radius}\")\n",
    "        print(f\"Area: {self.calculate_area()}\")\n",
    "    def calculate_area(self):\n",
    "        import math\n",
    "        return math.pi * (self.radius ** 2)\n"
   ]
  },
  {
   "cell_type": "code",
   "execution_count": 21,
   "id": "84673d7e",
   "metadata": {},
   "outputs": [
    {
     "name": "stdout",
     "output_type": "stream",
     "text": [
      "Colour is Blue and border_width is 12\n",
      "Radius: 5\n",
      "Area: 78.53981633974483\n"
     ]
    }
   ],
   "source": [
    "cir=Circle(\"Blue\",12,5)\n",
    "cir.display_info()"
   ]
  },
  {
   "cell_type": "code",
   "execution_count": 22,
   "id": "e1508971",
   "metadata": {},
   "outputs": [],
   "source": [
    "class Device:\n",
    "    def __init__(self,brand,model):\n",
    "        self.brand=brand\n",
    "        self.model=model\n",
    "    def display_info(self):\n",
    "        print(f\"Brand is {self.brand}\")\n",
    "        print(f\"Model is {self.model}\")\n",
    "        \n",
    "class Phone(Device):\n",
    "    def __init__(self,brand,model,screen_size):\n",
    "        super().__init__(brand,model)\n",
    "        self.screen_size=screen_size\n",
    "    def display_info(self):\n",
    "        super().display_info()\n",
    "        print(f\"Screen size is {self.screen_size}\")\n",
    "        \n",
    "class Tablet(Device):\n",
    "    def __init__(self,brand,model,battery_capacity):\n",
    "        super().__init__(brand,model)\n",
    "        self.battery_capacity=battery_capacity\n",
    "    def display_info(self):\n",
    "        super().display_info()\n",
    "        print(f\"Battery Capacity is {self.battery_capacity}\")\n",
    "        "
   ]
  },
  {
   "cell_type": "code",
   "execution_count": 25,
   "id": "0250f27f",
   "metadata": {},
   "outputs": [
    {
     "name": "stdout",
     "output_type": "stream",
     "text": [
      "Brand is Samsung\n",
      "Model is Galaxy\n",
      "Screen size is 11\n",
      "Brand is MI\n",
      "Model is Tab\n",
      "Battery Capacity is 22\n"
     ]
    }
   ],
   "source": [
    "phone=Phone(\"Samsung\",\"Galaxy\",11)\n",
    "phone.display_info()\n",
    "\n",
    "tablet=Tablet(\"MI\",\"Tab\",22)\n",
    "tablet.display_info()"
   ]
  },
  {
   "cell_type": "code",
   "execution_count": 26,
   "id": "bd6d58ec",
   "metadata": {},
   "outputs": [],
   "source": [
    "class BankAccount:\n",
    "    def __init__(self, account_number, balance):\n",
    "        self.account_number = account_number\n",
    "        self.balance = balance\n",
    "    def display_info(self):\n",
    "        print(f\"Account Number: {self.account_number}\")\n",
    "        print(f\"Balance: {self.balance}\")\n",
    "\n",
    "class SavingsAccount(BankAccount):\n",
    "    def __init__(self, account_number, balance, interest_rate):\n",
    "        super().__init__(account_number, balance)\n",
    "        self.interest_rate = interest_rate\n",
    "    def display_info(self):\n",
    "        super().display_info()\n",
    "        print(f\"Interest Rate: {self.interest_rate}\")\n",
    "        print(f\"Updated Balance: {self.calculate_interest()}\")\n",
    "    def calculate_interest(self):\n",
    "        interest_amount = self.balance * (self.interest_rate / 100)\n",
    "        self.balance += interest_amount\n",
    "        return self.balance\n",
    "\n",
    "class CheckingAccount(BankAccount):\n",
    "    def __init__(self, account_number, balance, fee_per_transaction):\n",
    "        super().__init__(account_number, balance)\n",
    "        self.fee_per_transaction = fee_per_transaction\n",
    "    def display_info(self):\n",
    "        super().display_info()\n",
    "        print(f\"Fee per Transaction: {self.fee_per_transaction}\")\n",
    "    def deduct_fees(self, num_transactions):\n",
    "        total_fee = self.fee_per_transaction * num_transactions\n",
    "        self.balance -= total_fee\n",
    "        print(f\"Deducted Fees: {total_fee}\")\n",
    "        print(f\"Updated Balance: {self.balance}\")"
   ]
  },
  {
   "cell_type": "code",
   "execution_count": 27,
   "id": "4020c496",
   "metadata": {},
   "outputs": [
    {
     "name": "stdout",
     "output_type": "stream",
     "text": [
      "Account Number: SA23245423232\n",
      "Balance: 1000\n",
      "Interest Rate: 6\n",
      "Updated Balance: 1060.0\n",
      "Account Number: QE43245434562\n",
      "Balance: 1500\n",
      "Fee per Transaction: 2\n",
      "Deducted Fees: 4\n",
      "Updated Balance: 1496\n"
     ]
    }
   ],
   "source": [
    "savings_account = SavingsAccount(account_number=\"SA23245423232\", balance=1000, interest_rate=6)\n",
    "savings_account.display_info()\n",
    "\n",
    "checking_account = CheckingAccount(account_number=\"QE43245434562\", balance=1500, fee_per_transaction=2)\n",
    "checking_account.display_info()\n",
    "checking_account.deduct_fees(num_transactions=2)"
   ]
  }
 ],
 "metadata": {
  "kernelspec": {
   "display_name": "Python 3 (ipykernel)",
   "language": "python",
   "name": "python3"
  },
  "language_info": {
   "codemirror_mode": {
    "name": "ipython",
    "version": 3
   },
   "file_extension": ".py",
   "mimetype": "text/x-python",
   "name": "python",
   "nbconvert_exporter": "python",
   "pygments_lexer": "ipython3",
   "version": "3.11.3"
  }
 },
 "nbformat": 4,
 "nbformat_minor": 5
}
